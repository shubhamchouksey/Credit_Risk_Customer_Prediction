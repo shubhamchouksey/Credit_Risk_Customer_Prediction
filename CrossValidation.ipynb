{
 "cells": [
  {
   "cell_type": "markdown",
   "metadata": {},
   "source": [
    "# Introduction to Cross Validation and Model Selection\n",
    "\n",
    "In a previous lab you created a model with l2 or ridge regularization and l1 or lasso regularization. In both cases, an apparently optimum value of the regularization parameter was found. This process is an example of **model selection**. The goal of model selection is to find the best performing model for the problem at hand. Model selection is a very general term and can apply to at least the following common cases:\n",
    "- Selection of optimal model **hyperparameters**. Hyperparameters are parameters which determine the characteristics of a model. Hyperparameters are distinct from the model parameters. For example, for the case of l2 regularized regression, the degree of regularization is determined by a hyperparameter, which is distinct from the regression coefficients or parameters. \n",
    "- **Feature selection** is the process of determining which features should be used in a model. \n",
    "- Comparing different model types is an obvious case of model selection. \n",
    "\n",
    "If you are thinking that the model selection process is closely related to model training, you are correct. Model selection is a component of model training. However, one must be careful, as applying a poor model selection method can lead to an over-fit model!\n",
    "\n",
    "## Overview of k-fold cross validation\n",
    "\n",
    "The questions remain, how good are the hyperparameter estimates previously obtained for the l2 and l1 regularization parameters and are there better ways to estimate these parameters? The answer to both questions is to use **resampling methods**. Resampling methods repeat a calculation multiple times using randomly selected subsets of the complete dataset.  In fact, resampling methods are generally the best approach to model selection problems. \n",
    "\n",
    "\n",
    "**K-folod Cross validation** is a widely used resampling method. In cross validation a dataset is divided into **k folds**. Each fold contains $\\frac{1}{k}$ cases and is created by **Bernoulli random sampling** of the full data set. A computation is performed on $k-1$ folds of the full dataset. The $k^{th}$ fold is **held back** and is used for testing the result. The computation is performed $k$ times and model parameters are averaged (mean taken) over the results of the $k$ folds. For each iteration, $k-1$ folds are used for training and the $k^{th}$ fold is used for testing. \n",
    "\n",
    "4-fold cross validation is illustrated in the figure below. To ensure the data are randomly sampled the data is randomly shuffled at the start of the procedure. The random samples can then be efficiently sub-sampled as shown in the figure. The model is trained and tested four times. For each iteration the data is trained with three folds of the data and tested with the fold shown in the dark shading. \n",
    "\n",
    "<img src=\"CrossValidation.jpg\" alt=\"Drawing\" style=\"width:750px; height:400px\"/>\n",
    "<center> **Resampling scheme for 4-fold cross validation**</center>\n",
    "\n",
    "## Introduction to nested cross validation\n",
    "\n",
    "Unfortunately, simple cross validation alone does not provide an unbiased approach to model selection. The problem with evaluating model performance with simple cross validation uses the same data samples as the model selection process. This situation will lead to model over fitting wherein the model selection is learned based on the evaluation data. The result is usually unrealistically optimistic model performance estimates.\n",
    "\n",
    "To obtain unbiased estimates of expected model performance while performing model selection, it is necessary to use **nested cross validation**. As the name implies, nested cross validation is performed though a pair of nested CV loops. The outer loop uses a set of folds to perform model evaluation. The inner loop performs model selection using another randomly sampled set of  folds not used for evaluation by the outer loop. This algorithm allows model selection and evaluation to proceed with randomly sampled subsets of the full data set, thereby avoiding model selection bias. \n",
    "\n",
    "## Cross validation and computational efficiency\n",
    "\n",
    "As you may have surmised, cross validation can be computationally intensive. Processing each fold of a cross validation requires fitting and evaluating the model. It is desirable to compute a reasonable number of folds. Since the results are averaged over the folds, a small number of folds can lead to significant variability in the final result. However, with large data sets or complex models, the number of folds must be limited in order to complete the cross validation process in a reasonable amount of time. It is, therefore, necessary to trade off accuracy of the cross validation result with the practical consideration of the required computational resources. \n",
    "\n",
    "As mentioned earlier, other resampling methods exist. For example, leave-one-out resampling has the same number of folds as data cases. Such methods provide optimal unbiased estimates of model performance. Unfortunately, as you might think, such methods are computationally intensive and are only suitable for small datasets. In practice k-fold cross validation is a reasonable way to explore bias-variance trade-off with reasonable computational resources. "
   ]
  },
  {
   "cell_type": "markdown",
   "metadata": {},
   "source": [
    "### Load Features and Labels\n",
    "\n",
    "With the above theory in mind, you will now try an example. \n",
    "\n",
    "As a first step, execute the code in the cell below to load the packages required for this notebook. "
   ]
  },
  {
   "cell_type": "code",
   "execution_count": 1,
   "metadata": {
    "scrolled": true
   },
   "outputs": [],
   "source": [
    "import pandas as pd\n",
    "import sklearn.model_selection as ms\n",
    "from sklearn import linear_model\n",
    "import sklearn.metrics as sklm\n",
    "from sklearn.model_selection import cross_val_score\n",
    "import numpy as np\n",
    "import numpy.random as nr\n",
    "import matplotlib.pyplot as plt\n",
    "import math\n",
    "\n",
    "%matplotlib inline"
   ]
  },
  {
   "cell_type": "markdown",
   "metadata": {},
   "source": [
    "Next, load the preprocessed files containing the features and the labels. The preprocessing includes the following:\n",
    "1. Cleaning missing values.\n",
    "2. Aggregate categories of certain categorical variables. \n",
    "3. Encoding categorical variables as binary dummy variables.\n",
    "4. Standardization of numeric variables. \n",
    "\n",
    "Execute the code in the cell below to load the features and labels as numpy arrays for the example. "
   ]
  },
  {
   "cell_type": "code",
   "execution_count": 2,
   "metadata": {},
   "outputs": [
    {
     "name": "stdout",
     "output_type": "stream",
     "text": [
      "(1000, 35)\n",
      "(1000, 1)\n"
     ]
    }
   ],
   "source": [
    "Features = np.array(pd.read_csv('Credit_Features.csv'))\n",
    "Labels = np.array(pd.read_csv('Credit_Labels.csv'))\n",
    "print(Features.shape)\n",
    "print(Labels.shape)"
   ]
  },
  {
   "cell_type": "markdown",
   "metadata": {},
   "source": [
    "## Construct the logistic regression model\n",
    "\n",
    "To create a baseline for comparison you will now create a logistic regression model without cross validation. This model uses a fixed set of hyperparameters. You will compare the performance of this model with the cross validation results computed subsequently. "
   ]
  },
  {
   "cell_type": "markdown",
   "metadata": {},
   "source": [
    "Now, execute the code in the cell below to create training and testing splits of the dataset. "
   ]
  },
  {
   "cell_type": "code",
   "execution_count": 3,
   "metadata": {},
   "outputs": [],
   "source": [
    "## Randomly sample cases to create independent training and test data\n",
    "nr.seed(1115)\n",
    "indx = range(Features.shape[0])\n",
    "indx = ms.train_test_split(indx, test_size = 300)\n",
    "X_train = Features[indx[0],:]\n",
    "y_train = np.ravel(Labels[indx[0]])\n",
    "X_test = Features[indx[1],:]\n",
    "y_test = np.ravel(Labels[indx[1]])"
   ]
  },
  {
   "cell_type": "markdown",
   "metadata": {},
   "source": [
    "Now, it is time to compute the logistic regression model. The code in the cell below does the following:\n",
    "1. Define a logistic regression model object using the `LogisticRegression` method from the scikit-learn `linear_model` package.\n",
    "2. Fit the linear model using the numpy arrays of the features and the labels for the training data set.\n",
    "\n",
    "Execute this code. "
   ]
  },
  {
   "cell_type": "code",
   "execution_count": 16,
   "metadata": {},
   "outputs": [
    {
     "name": "stderr",
     "output_type": "stream",
     "text": [
      "/home/ins/anaconda3/lib/python3.7/site-packages/sklearn/linear_model/logistic.py:432: FutureWarning: Default solver will be changed to 'lbfgs' in 0.22. Specify a solver to silence this warning.\n",
      "  FutureWarning)\n"
     ]
    },
    {
     "data": {
      "text/plain": [
       "LogisticRegression(C=1.0, class_weight={0: 0.9}, dual=False, fit_intercept=True,\n",
       "                   intercept_scaling=1, l1_ratio=None, max_iter=100,\n",
       "                   multi_class='warn', n_jobs=None, penalty='l2',\n",
       "                   random_state=None, solver='warn', tol=0.0001, verbose=0,\n",
       "                   warm_start=False)"
      ]
     },
     "execution_count": 16,
     "metadata": {},
     "output_type": "execute_result"
    }
   ],
   "source": [
    "logistic_mod = linear_model.LogisticRegression(C = 1.0, class_weight = {0:0.1, 0:0.9}) \n",
    "logistic_mod.fit(X_train, y_train)"
   ]
  },
  {
   "cell_type": "markdown",
   "metadata": {},
   "source": [
    "The code in the cell below computes and displays metrics and the ROC curve for the model using the test data subset. Execute this code and examine the results. "
   ]
  },
  {
   "cell_type": "code",
   "execution_count": 5,
   "metadata": {
    "scrolled": false
   },
   "outputs": [
    {
     "name": "stdout",
     "output_type": "stream",
     "text": [
      "                 Confusion matrix\n",
      "                 Score positive    Score negative\n",
      "Actual positive       138                74\n",
      "Actual negative        20                68\n",
      "\n",
      "Accuracy        0.69\n",
      "AUC             0.79\n",
      "Macro precision 0.68\n",
      "Macro recall    0.71\n",
      " \n",
      "           Positive      Negative\n",
      "Num case      212            88\n",
      "Precision    0.87          0.48\n",
      "Recall       0.65          0.77\n",
      "F1           0.75          0.59\n"
     ]
    },
    {
     "data": {
      "image/png": "[encoded data removed]",
      "text/plain": [
       "<Figure size 432x288 with 1 Axes>"
      ]
     },
     "metadata": {
      "needs_background": "light"
     },
     "output_type": "display_data"
    }
   ],
   "source": [
    "def score_model(probs, threshold):\n",
    "    return np.array([1 if x > threshold else 0 for x in probs[:,1]])\n",
    "\n",
    "def print_metrics(labels, probs, threshold):\n",
    "    scores = score_model(probs, threshold)\n",
    "    metrics = sklm.precision_recall_fscore_support(labels, scores)\n",
    "    conf = sklm.confusion_matrix(labels, scores)\n",
    "    print('                 Confusion matrix')\n",
    "    print('                 Score positive    Score negative')\n",
    "    print('Actual positive    %6d' % conf[0,0] + '             %5d' % conf[0,1])\n",
    "    print('Actual negative    %6d' % conf[1,0] + '             %5d' % conf[1,1])\n",
    "    print('')\n",
    "    print('Accuracy        %0.2f' % sklm.accuracy_score(labels, scores))\n",
    "    print('AUC             %0.2f' % sklm.roc_auc_score(labels, probs[:,1]))\n",
    "    print('Macro precision %0.2f' % float((float(metrics[0][0]) + float(metrics[0][1]))/2.0))\n",
    "    print('Macro recall    %0.2f' % float((float(metrics[1][0]) + float(metrics[1][1]))/2.0))\n",
    "    print(' ')\n",
    "    print('           Positive      Negative')\n",
    "    print('Num case   %6d' % metrics[3][0] + '        %6d' % metrics[3][1])\n",
    "    print('Precision  %6.2f' % metrics[0][0] + '        %6.2f' % metrics[0][1])\n",
    "    print('Recall     %6.2f' % metrics[1][0] + '        %6.2f' % metrics[1][1])\n",
    "    print('F1         %6.2f' % metrics[2][0] + '        %6.2f' % metrics[2][1])\n",
    "\n",
    "def plot_auc(labels, probs):\n",
    "    ## Compute the false positive rate, true positive rate\n",
    "    ## and threshold along with the AUC\n",
    "    fpr, tpr, threshold = sklm.roc_curve(labels, probs[:,1])\n",
    "    auc = sklm.auc(fpr, tpr)\n",
    "    #print(threshold)\n",
    "    \n",
    "    ## Plot the result\n",
    "    plt.title('Receiver Operating Characteristic')\n",
    "    plt.plot(fpr, tpr, color = 'orange', label = 'AUC = %0.2f' % auc)\n",
    "    plt.legend(loc = 'lower right')\n",
    "    plt.plot([0, 1], [0, 1],'r--')\n",
    "    plt.xlim([0, 1])\n",
    "    plt.ylim([0, 1])\n",
    "    plt.ylabel('True Positive Rate')\n",
    "    plt.xlabel('False Positive Rate')\n",
    "    plt.show()    \n",
    "\n",
    "probabilities = logistic_mod.predict_proba(X_test)\n",
    "print_metrics(y_test, probabilities, 0.3)  \n",
    "plot_auc(y_test, probabilities)"
   ]
  },
  {
   "cell_type": "markdown",
   "metadata": {},
   "source": [
    "These results look promising, with most of the metrics having reasonable values. The question is now, how will these performance estimates hold up to cross validation?"
   ]
  },
  {
   "cell_type": "markdown",
   "metadata": {},
   "source": [
    "### Ignoring all FutureWarning"
   ]
  },
  {
   "cell_type": "code",
   "execution_count": 25,
   "metadata": {},
   "outputs": [],
   "source": [
    "# import warnings filter\n",
    "from warnings import simplefilter\n",
    "# ignore all future warnings\n",
    "simplefilter(action='ignore', category=FutureWarning)"
   ]
  },
  {
   "cell_type": "markdown",
   "metadata": {},
   "source": [
    "## Cross validate model\n",
    "\n",
    "To compute a better estimate of model performance, you can perform simple cross validation. The code in the cell performs the following processing:\n",
    "1. Create a list of the metrics to be computed for each fold. \n",
    "2. Defines a logistic regression model object.\n",
    "3. A 10 fold cross validation is performed using the `cross_validate` function from the scikit-learn `model_selection` package.\n",
    "\n",
    "Execute this code. "
   ]
  },
  {
   "cell_type": "code",
   "execution_count": 26,
   "metadata": {},
   "outputs": [],
   "source": [
    "Labels = Labels.reshape(Labels.shape[0],)\n",
    "scoring = ['precision_macro', 'recall_macro', 'roc_auc']\n",
    "logistic_mod = linear_model.LogisticRegression(C = 1.0, class_weight = {0:0.1, 0:0.9}) \n",
    "scores = ms.cross_validate(logistic_mod, Features, Labels, scoring=scoring,\n",
    "                        cv=10, return_train_score=False)"
   ]
  },
  {
   "cell_type": "markdown",
   "metadata": {},
   "source": [
    "The code in the cell below displays the performance metrics along with the mean and standard deviation, computed for each fold to the cross validation. The 'macro' versions of precision and recall are used. These macro versions average over the positive and negative cases. \n",
    "\n",
    "Execute this code, examine the result, and answer **Question 1** on the course page."
   ]
  },
  {
   "cell_type": "code",
   "execution_count": 27,
   "metadata": {
    "scrolled": false
   },
   "outputs": [
    {
     "name": "stdout",
     "output_type": "stream",
     "text": [
      "         Precision     Recall       AUC\n",
      "Fold  1    0.741        0.710      0.823\n",
      "Fold  2    0.719        0.667      0.790\n",
      "Fold  3    0.687        0.671      0.788\n",
      "Fold  4    0.644        0.621      0.730\n",
      "Fold  5    0.753        0.726      0.826\n",
      "Fold  6    0.757        0.717      0.783\n",
      "Fold  7    0.604        0.602      0.684\n",
      "Fold  8    0.753        0.726      0.841\n",
      "Fold  9    0.700        0.669      0.791\n",
      "Fold 10    0.653        0.650      0.750\n",
      "----------------------------------------\n",
      "Mean       0.701        0.676      0.781\n",
      "Std        0.051        0.041      0.045\n"
     ]
    }
   ],
   "source": [
    "def print_format(f,x,y,z):\n",
    "    print('Fold %2d    %4.3f        %4.3f      %4.3f' % (f, x, y, z))\n",
    "\n",
    "def print_cv(scores):\n",
    "    fold = [x + 1 for x in range(len(scores['test_precision_macro']))]\n",
    "    print('         Precision     Recall       AUC')\n",
    "    [print_format(f,x,y,z) for f,x,y,z in zip(fold, scores['test_precision_macro'], \n",
    "                                          scores['test_recall_macro'],\n",
    "                                          scores['test_roc_auc'])]\n",
    "    print('-' * 40)\n",
    "    print('Mean       %4.3f        %4.3f      %4.3f' % \n",
    "          (np.mean(scores['test_precision_macro']), np.mean(scores['test_recall_macro']), np.mean(scores['test_roc_auc'])))  \n",
    "    print('Std        %4.3f        %4.3f      %4.3f' % \n",
    "          (np.std(scores['test_precision_macro']), np.std(scores['test_recall_macro']), np.std(scores['test_roc_auc'])))\n",
    "\n",
    "print_cv(scores)    "
   ]
  },
  {
   "cell_type": "markdown",
   "metadata": {},
   "source": [
    "Notice that there is considerable variability in each of the performance metrics from fold to fold. Even so, the standard deviations are at least an order of magnitude than the means. It is clear that **any one fold does not provide a representative value of the performance metrics**. The later is a key point as to why cross validation is important when evaluating a machine learning model.  \n",
    "\n",
    "Compare the performance metric values to the values obtained for the baseline model you created above. In general the metrics obtained by cross validation are lower. However, the metrics obtained for the baseline model are within 1 standard deviation of the average metrics from cross validation. "
   ]
  },
  {
   "cell_type": "markdown",
   "metadata": {},
   "source": [
    "## Optimize hyperparameters with nested cross validation\n",
    "\n",
    "Given the variability observed in cross validation, it should be clear that performing model selection from a single training and evaluation is an uncertain proposition at best. Fortunately, the nested cross validation approach provides a better way to perform model selection. However, there is no guarantee that a model selection process will, in fact, improve a model. In some cases, it may prove to be that model selection has minimal impact. \n",
    "\n",
    "To start the nested cross validation process it is necessary to define the randomly sampled folds for the inner and outer loops. The code in the cell below uses the `KFolds` function from the scikit-learn `model_selection` package to define fold selection objects. Notice that the `shuffle = True` argument is used in both cases. This argument specifies that a random shuffle is preformed before folds are created, ensuring that the sampling of the folds for the inside and outside loops are independent. Notice that by creating these independent fold objects there is no need to actually create nested loops for this process. \n",
    "\n",
    "Execute this code."
   ]
  },
  {
   "cell_type": "code",
   "execution_count": 28,
   "metadata": {},
   "outputs": [],
   "source": [
    "nr.seed(123)\n",
    "inside = ms.KFold(n_splits=10, shuffle = True)\n",
    "nr.seed(321)\n",
    "outside = ms.KFold(n_splits=10, shuffle = True)"
   ]
  },
  {
   "cell_type": "markdown",
   "metadata": {},
   "source": [
    "An important decision in model selection searches is the choice of performance metric used to find the best model. For classification problems scikit-learn uses accuracy as the default metric. However, as you have seen previously, accuracy is not necessarily the best metric, particularly when there is a class imbalance as is the case here. There are a number of alternatives which one could choose for such a situation. In this case AUC will be used. \n",
    "\n",
    "The code below uses the `inside` k-fold object to execute the inside loop of the nested cross validation. Specifically, the steps are:\n",
    "1. Define a dictionary with the grid of parameter values to search over. In this case there is only one parameter, `C`, with a list of values to try. In a more general case, the dictionary can contain values from multiple parameters, creating a multi-dimensional grid that the cross validation process will iterate over. In this case there are 5 hyperparameter values in the grid and 10-fold cross validation is being used. Thus, the model will be trained and evaluated 50 times. \n",
    "2. The logistic regression model object is defined. \n",
    "3. The cross validation search over the parameter grid is performed using the `GridSearch` function from the scikit-learn `model_selection` package. Notice that the cross validation folds are computed using the `inside` k-fold object.\n",
    "\n",
    "\n",
    "****\n",
    "**Note:** Somewhat confusingly, the scikit-learn `LogisticRegression` function uses a regularization parameter `C` which is the inverse of the usual l2 regularization parameter $\\lambda$. Thus, the smaller the parameter the stronger the regulation \n",
    "****\n",
    "\n",
    "Execute this code."
   ]
  },
  {
   "cell_type": "code",
   "execution_count": 29,
   "metadata": {
    "scrolled": true
   },
   "outputs": [],
   "source": [
    "nr.seed(3456)\n",
    "## Define the dictionary for the grid search and the model object to search on\n",
    "param_grid = {\"C\": [0.1, 1, 10, 100, 1000]}\n",
    "## Define the logistic regression model\n",
    "logistic_mod = linear_model.LogisticRegression(class_weight = {0:0.1, 0:0.9}) \n",
    "\n",
    "## Perform the grid search over the parameters\n",
    "clf = ms.GridSearchCV(estimator = logistic_mod, param_grid = param_grid, \n",
    "                      cv = inside, # Use the inside folds\n",
    "                      scoring = 'roc_auc',\n",
    "                      return_train_score = True)"
   ]
  },
  {
   "cell_type": "markdown",
   "metadata": {},
   "source": [
    "The cross validated grid search object, `clf`, has been created. \n",
    "\n",
    "The code in the cell below fits the cross validated model using the `fit`method. The AUC for each hyperparameter and fold is displayed as an array. Finally, the hyperparameter for the model with the best average AUC is displayed.  Execute this code and  examine the results."
   ]
  },
  {
   "cell_type": "code",
   "execution_count": 30,
   "metadata": {},
   "outputs": [
    {
     "name": "stdout",
     "output_type": "stream",
     "text": [
      "['mean_fit_time', 'std_fit_time', 'mean_score_time', 'std_score_time', 'param_C', 'params', 'split0_test_score', 'split1_test_score', 'split2_test_score', 'split3_test_score', 'split4_test_score', 'split5_test_score', 'split6_test_score', 'split7_test_score', 'split8_test_score', 'split9_test_score', 'mean_test_score', 'std_test_score', 'rank_test_score', 'split0_train_score', 'split1_train_score', 'split2_train_score', 'split3_train_score', 'split4_train_score', 'split5_train_score', 'split6_train_score', 'split7_train_score', 'split8_train_score', 'split9_train_score', 'mean_train_score', 'std_train_score']\n",
      "[0.77281746 0.76190476 0.76041667 0.75892857 0.75892857]\n",
      "[0.79663394 0.78354371 0.78073866 0.78167368 0.78167368]\n",
      "[0.74653216 0.75325767 0.75535939 0.75493905 0.75493905]\n",
      "[0.79761905 0.79464286 0.78670635 0.78621032 0.78521825]\n",
      "[0.83692308 0.84087912 0.83692308 0.83648352 0.83648352]\n",
      "[0.74404762 0.74156746 0.72767857 0.71676587 0.71626984]\n",
      "[0.75791667 0.74208333 0.73375    0.73291667 0.7325    ]\n",
      "[0.71924603 0.73015873 0.73263889 0.73363095 0.73363095]\n",
      "[0.89156627 0.89014883 0.88802268 0.8887314  0.8887314 ]\n",
      "[0.80665281 0.8004158  0.8014553  0.8014553  0.8014553 ]\n"
     ]
    },
    {
     "data": {
      "text/plain": [
       "0.1"
      ]
     },
     "execution_count": 30,
     "metadata": {},
     "output_type": "execute_result"
    }
   ],
   "source": [
    "## Fit thhe cross validated grid search over the data \n",
    "clf.fit(Features, Labels)\n",
    "keys = list(clf.cv_results_.keys())\n",
    "print(keys)\n",
    "for key in keys[6:16]:\n",
    "    print(clf.cv_results_[key])\n",
    "## And print the best parameter value\n",
    "clf.best_estimator_.C"
   ]
  },
  {
   "cell_type": "markdown",
   "metadata": {},
   "source": [
    "The array of AUC metrics has dimensions 10 folds X  hyperparameter values. As you might expect by now, there is considerable variation in the AUC from fold to fold for each hyperparamter value, or column. \n",
    "\n",
    "Evidently, the optimal hyperparameter value is 0.1. \n",
    "\n",
    "To help understand this behavior a bit more, the code in the cell below does the following:\n",
    "1. Compute and display the mean and standard deviation of the AUC for each hyperparameter value.\n",
    "2. Plot the AUC values for each fold vs. the hyperparameter values. The mean AUC for each hyperparameter value is shown with a red +. \n",
    "\n",
    "Execute this code and examine the results. "
   ]
  },
  {
   "cell_type": "code",
   "execution_count": 31,
   "metadata": {},
   "outputs": [
    {
     "name": "stdout",
     "output_type": "stream",
     "text": [
      "[[0.77281746 0.76190476 0.76041667 0.75892857 0.75892857]\n",
      " [0.79663394 0.78354371 0.78073866 0.78167368 0.78167368]\n",
      " [0.74653216 0.75325767 0.75535939 0.75493905 0.75493905]\n",
      " [0.79761905 0.79464286 0.78670635 0.78621032 0.78521825]\n",
      " [0.83692308 0.84087912 0.83692308 0.83648352 0.83648352]\n",
      " [0.74404762 0.74156746 0.72767857 0.71676587 0.71626984]\n",
      " [0.75791667 0.74208333 0.73375    0.73291667 0.7325    ]\n",
      " [0.71924603 0.73015873 0.73263889 0.73363095 0.73363095]\n",
      " [0.89156627 0.89014883 0.88802268 0.8887314  0.8887314 ]\n",
      " [0.80665281 0.8004158  0.8014553  0.8014553  0.8014553 ]]\n",
      "Performance metrics by parameter\n",
      "Parameter   Mean performance   STD performance\n",
      "    0.10        0.78700            0.04810\n",
      "    1.00        0.78386            0.04772\n",
      "   10.00        0.78037            0.04850\n",
      "  100.00        0.77917            0.04995\n",
      " 1000.00        0.77898            0.05003\n"
     ]
    },
    {
     "data": {
      "image/png": "[encoded data removed]",
      "text/plain": [
       "<Figure size 432x288 with 1 Axes>"
      ]
     },
     "metadata": {
      "needs_background": "light"
     },
     "output_type": "display_data"
    }
   ],
   "source": [
    "def plot_cv(clf, params_grid, param = 'C'):\n",
    "    params = [x for x in params_grid[param]]\n",
    "  \n",
    "    keys = list(clf.cv_results_.keys())              \n",
    "    grid = np.array([clf.cv_results_[key] for key in keys[6:16]])\n",
    "    print(grid)\n",
    "    means = np.mean(grid, axis = 0)\n",
    "    stds = np.std(grid, axis = 0)\n",
    "    print('Performance metrics by parameter')\n",
    "    print('Parameter   Mean performance   STD performance')\n",
    "    for x,y,z in zip(params, means, stds):\n",
    "        print('%8.2f        %6.5f            %6.5f' % (x,y,z))\n",
    "    \n",
    "    params = [math.log10(x) for x in params]\n",
    "    \n",
    "    plt.scatter(params * grid.shape[0], grid.flatten())\n",
    "    p = plt.scatter(params, means, color = 'red', marker = '+', s = 300)\n",
    "    plt.plot(params, np.transpose(grid))\n",
    "    plt.title('Performance metric vs. log parameter value\\n from cross validation')\n",
    "    plt.xlabel('Log hyperparameter value')\n",
    "    plt.ylabel('Performance metric')\n",
    "    \n",
    "plot_cv(clf, param_grid)    "
   ]
  },
  {
   "cell_type": "markdown",
   "metadata": {},
   "source": [
    "There are a number of points to notice here:\n",
    "1. The mean AUC for each value of the hyperparameter are all within 1 standard deviation of each other. This result indicates that model performance is not sensitive to the choice of hyperparamter. \n",
    "2. Graphically you can see that there is a noticeable variation in the AUC from metric to metric, regardless of hyperparameter. Keep in mind that **this variation is simply a result of random sampling of the data!**\n",
    "\n",
    "Finally, it is time to try execute the outer loop of the nested cross validation to evaluate the performance of the 'best' model selected by the inner loop. In this case, 'best' is quite approximate, since as already noted, the differences in performance between the models is not significant. \n",
    "\n",
    "The code in the cell below executes the outer loop of the nested cross validation using the `cross_val_scores` function from the scikit-learn `model_selection` package. The folds are determined by the `outside` k-fold object. The mean and standard deviation of the AUC is printed along with the value estimated for each fold. Execute this code and examine the result. \n",
    "\n",
    "Then, answer **Question 2** on the course page."
   ]
  },
  {
   "cell_type": "code",
   "execution_count": 32,
   "metadata": {},
   "outputs": [
    {
     "name": "stdout",
     "output_type": "stream",
     "text": [
      "Mean performance metric = 0.780\n",
      "SDT of the metric       = 0.037\n",
      "Outcomes by cv fold\n",
      "Fold  1    0.783\n",
      "Fold  2    0.733\n",
      "Fold  3    0.757\n",
      "Fold  4    0.759\n",
      "Fold  5    0.788\n",
      "Fold  6    0.826\n",
      "Fold  7    0.730\n",
      "Fold  8    0.854\n",
      "Fold  9    0.801\n",
      "Fold 10    0.768\n"
     ]
    }
   ],
   "source": [
    "nr.seed(498)\n",
    "cv_estimate = cross_val_score(clf, Features, Labels, \n",
    "                                 cv = outside) # Use the outside folds\n",
    "print('Mean performance metric = %4.3f' % np.mean(cv_estimate))\n",
    "\n",
    "print('SDT of the metric       = %4.3f' % np.std(cv_estimate))\n",
    "print('Outcomes by cv fold')\n",
    "for i, x in enumerate(cv_estimate):\n",
    "    print('Fold %2d    %4.3f' % (i+1, x))"
   ]
  },
  {
   "cell_type": "markdown",
   "metadata": {},
   "source": [
    "As expected, there is considerable variation in AUC across the folds. The mean AUC is a bit lower than estimated for the inner loop of the nested cross validation and the baseline model. However, all of these values are within 1 standard deviation of each other, and thus these differences cannot be considered significant. "
   ]
  },
  {
   "cell_type": "markdown",
   "metadata": {},
   "source": [
    "Now, you will build and test a model using the estimated optimal hyperparameters. Then, answer **Question 3** on the course page. "
   ]
  },
  {
   "cell_type": "code",
   "execution_count": 33,
   "metadata": {},
   "outputs": [
    {
     "name": "stdout",
     "output_type": "stream",
     "text": [
      "                 Confusion matrix\n",
      "                 Score positive    Score negative\n",
      "Actual positive       132                80\n",
      "Actual negative        19                69\n",
      "\n",
      "Accuracy        0.67\n",
      "AUC             0.80\n",
      "Macro precision 0.67\n",
      "Macro recall    0.70\n",
      " \n",
      "           Positive      Negative\n",
      "Num case      212            88\n",
      "Precision    0.87          0.46\n",
      "Recall       0.62          0.78\n",
      "F1           0.73          0.58\n"
     ]
    },
    {
     "data": {
      "image/png": "[encoded data removed]",
      "text/plain": [
       "<Figure size 432x288 with 1 Axes>"
      ]
     },
     "metadata": {
      "needs_background": "light"
     },
     "output_type": "display_data"
    }
   ],
   "source": [
    "logistic_mod = linear_model.LogisticRegression(C = 0.1, class_weight = {0:0., 0:0.9}) \n",
    "logistic_mod.fit(X_train, y_train)\n",
    "probabilities = logistic_mod.predict_proba(X_test)\n",
    "print_metrics(y_test, probabilities, 0.3)  \n",
    "plot_auc(y_test, probabilities)"
   ]
  },
  {
   "cell_type": "markdown",
   "metadata": {},
   "source": [
    "## Summary\n",
    "\n",
    "In this lab you have performed by simple cross validation and nested cross validation. Key points and observations are:\n",
    "1. Model selection should be done using a resampling procedure such as nested cross validation. The nested sampling structure is required to prevent bias in model selection wherein the model selected learns the best hyperparameters for the samples used, rather than a model that generalizes well. \n",
    "2. There is significant variation in model performance from fold to fold in cross validation. This variation arises from the sampling of the data alone and is not a property of any particular model.\n",
    "3. Given the expected sampling variation in cross validation, there is generally considerable uncertainty as to which model is best when performing model selection.  "
   ]
  },
  {
   "cell_type": "code",
   "execution_count": null,
   "metadata": {},
   "outputs": [],
   "source": []
  }
 ],
 "metadata": {
  "kernelspec": {
   "display_name": "Python 3",
   "language": "python",
   "name": "python3"
  },
  "language_info": {
   "codemirror_mode": {
    "name": "ipython",
    "version": 3
   },
   "file_extension": ".py",
   "mimetype": "text/x-python",
   "name": "python",
   "nbconvert_exporter": "python",
   "pygments_lexer": "ipython3",
   "version": "3.7.4"
  }
 },
 "nbformat": 4,
 "nbformat_minor": 2
}
