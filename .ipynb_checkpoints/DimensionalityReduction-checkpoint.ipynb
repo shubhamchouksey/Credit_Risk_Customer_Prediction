{
 "cells": [
  {
   "cell_type": "markdown",
   "metadata": {},
   "source": [
    "## Dimensionality reduction with principle components\n",
    "\n",
    "**Principle component analysis**, or **PCA**, is an alternative to regularization and straight-forward feature elimination. PCA is particularly useful for problems with very large numbers of features compared to the number of training cases. For example, when faced with a problem with many thousands of features and perhaps a few thousand cases, PCA can be a good choice to **reduce the dimensionality** of the feature space.  \n",
    "\n",
    "PCA is one of a family of transformation methods that reduce dimensionality. PCA is the focus here, since it is the most widely used of these methods. \n",
    "\n",
    "The basic idea of PCA is rather simple: Find a linear transformation of the feature space which **projects the majority of the variance** onto a few orthogonal dimensions in the transformed space. The PCA transformation maps the data values to a new coordinate system defined by the principle components. Assuming the highest variance directions, or **components**, are the most informative, low variance components can be eliminated from the space with little loss of information. \n",
    "\n",
    "The projection along which the greatest variance occurs is called the **first principle component**. The next projection, orthogonal to the first, with the greatest variance is call the **second principle component**. Subsequent components are all mutually orthogonal with decreasing variance along the projected direction.  \n",
    "\n",
    "Widely used PCA algorithms compute the components sequentially, starting with the first principle component. This means that it is computationally efficient to compute the first several components from a very large number of features. Thus, PCA can make problems with very large numbers of features computationally tractable. \n",
    "\n",
    "****\n",
    "**Note:** It may help your understanding to realize that principle components are a scaled version of the **eigenvectors** of the feature matrix. The scale for each dimensions is given by the **eigenvalues**. The eigenvalues are the fraction of the variance explained by the components. \n",
    "****"
   ]
  },
  {
   "cell_type": "markdown",
   "metadata": {},
   "source": [
    "## A simple example\n",
    "\n",
    "To cement the concepts of PCA you will now work through a simple example. This example is restricted to 2-d data so that the results are easy to visualize. \n",
    "\n",
    "As a first step, execute the code in cell below to load the packages required for the rest of this notebook."
   ]
  },
  {
   "cell_type": "code",
   "execution_count": 1,
   "metadata": {},
   "outputs": [],
   "source": [
    "import pandas as pd\n",
    "import sklearn.model_selection as ms\n",
    "from sklearn import linear_model\n",
    "import sklearn.metrics as sklm\n",
    "import sklearn.decomposition as skde\n",
    "import numpy as np\n",
    "import numpy.random as nr\n",
    "import matplotlib.pyplot as plt\n",
    "import math\n",
    "\n",
    "%matplotlib inline"
   ]
  },
  {
   "cell_type": "markdown",
   "metadata": {},
   "source": [
    "The code in the cell below simulates data from a bivariate Normal distribution. The distribution is deliberately centered on $\\{ 0,0 \\}$ and with unit variance on each dimension. There is considerable correlation between the two dimensions leading to a covariance matrix:\n",
    "\n",
    "$$cov(X) =  \\begin{bmatrix}\n",
    "  1.0 & 0.6 \\\\\n",
    "  0.6 & 1.0\n",
    " \\end{bmatrix}$$\n",
    "\n",
    "Given the covariance matrix 100 draws from this distribution are computed using the `multivariate_normal` function from the Numpy `random` package. Execute this code:"
   ]
  },
  {
   "cell_type": "code",
   "execution_count": 2,
   "metadata": {},
   "outputs": [
    {
     "data": {
      "text/plain": [
       "(100, 2)"
      ]
     },
     "execution_count": 2,
     "metadata": {},
     "output_type": "execute_result"
    }
   ],
   "source": [
    "nr.seed(124)\n",
    "cov = np.array([[1.0, 0.6], [0.6, 1.0]])\n",
    "mean = np.array([0.0, 0.0])\n",
    "\n",
    "sample = nr.multivariate_normal(mean, cov, 100)\n",
    "sample.shape"
   ]
  },
  {
   "cell_type": "markdown",
   "metadata": {},
   "source": [
    "To get a feel for this data, execute the code in the cell below to display a plot and examine the result. "
   ]
  },
  {
   "cell_type": "code",
   "execution_count": 3,
   "metadata": {},
   "outputs": [
    {
     "data": {
      "text/plain": [
       "array([[-5.09841565e-02, -4.65062876e-01],\n",
       "       [ 1.60546626e-01,  2.23294845e+00],\n",
       "       [ 1.64722164e+00,  9.77700230e-01],\n",
       "       [ 1.78874671e-01,  1.64132288e+00],\n",
       "       [-5.03209165e-01, -1.14709060e+00],\n",
       "       [ 7.49612273e-01,  9.76423612e-01],\n",
       "       [-2.43467016e-01, -3.07513366e-01],\n",
       "       [ 1.06133017e+00,  9.69879110e-01],\n",
       "       [-8.26613890e-01, -6.19113590e-01],\n",
       "       [ 9.32355003e-01,  1.57268239e+00],\n",
       "       [ 1.34509410e+00,  2.45544802e+00],\n",
       "       [ 2.75603386e-01, -6.98331063e-01],\n",
       "       [-6.61394415e-01, -6.22572263e-01],\n",
       "       [ 3.52264046e-01,  1.75920620e-01],\n",
       "       [-2.41032053e-01, -1.20411233e+00],\n",
       "       [-2.37707071e-01, -6.41215298e-01],\n",
       "       [ 7.89437073e-01, -1.14110860e+00],\n",
       "       [-5.54391355e-01, -3.80637982e-01],\n",
       "       [-5.91265557e-03, -9.03149411e-02],\n",
       "       [ 3.58524318e-01, -1.70094203e+00],\n",
       "       [-1.11047529e+00, -1.12043436e-01],\n",
       "       [-1.31086465e+00, -2.15224784e-01],\n",
       "       [-1.41594735e-01, -3.62607439e-01],\n",
       "       [-1.53257998e+00, -2.12598342e+00],\n",
       "       [ 7.88375041e-01, -2.27553258e-01],\n",
       "       [-9.57384443e-01, -2.01623960e-01],\n",
       "       [-1.40968214e+00, -1.42446386e+00],\n",
       "       [ 5.38722674e-01,  8.84752720e-01],\n",
       "       [ 7.46618021e-01,  1.42272402e+00],\n",
       "       [-3.64031332e-01, -8.03858731e-01],\n",
       "       [-3.52904810e-02, -5.12451916e-01],\n",
       "       [-1.06899105e-01,  2.83268028e-04],\n",
       "       [-1.26811359e-01, -5.19479750e-01],\n",
       "       [-1.91855488e-01,  1.91857430e-01],\n",
       "       [ 7.52358732e-01,  1.51603376e+00],\n",
       "       [-1.06141385e+00, -7.25194708e-01],\n",
       "       [ 3.18214434e-01,  3.67848498e-01],\n",
       "       [ 1.46653148e+00,  2.23654753e+00],\n",
       "       [-1.08197356e-01,  3.02085683e-01],\n",
       "       [ 9.58098825e-02, -7.68535444e-01],\n",
       "       [-6.48827083e-03, -1.02514985e-01],\n",
       "       [-9.52853164e-01, -2.72096237e+00],\n",
       "       [-1.33989446e+00, -7.77698115e-01],\n",
       "       [-1.33161376e+00, -7.32586631e-01],\n",
       "       [-7.76301616e-01, -1.25906935e+00],\n",
       "       [-8.41312515e-01, -7.85995568e-01],\n",
       "       [-2.71729564e+00, -7.09203506e-01],\n",
       "       [-1.06497479e+00, -1.46412135e+00],\n",
       "       [-1.58754830e-01, -7.70799729e-02],\n",
       "       [-1.55297997e+00, -1.40607538e+00],\n",
       "       [ 9.39080149e-01,  1.94602994e+00],\n",
       "       [ 2.63669866e+00,  1.78976226e+00],\n",
       "       [ 5.40924327e-01,  1.11003254e+00],\n",
       "       [-2.09198480e+00, -1.71039165e+00],\n",
       "       [ 5.74299250e-01,  8.71305812e-01],\n",
       "       [-4.75961238e-01, -7.71848627e-01],\n",
       "       [-8.21054099e-01, -7.15477530e-01],\n",
       "       [ 5.77049278e-01,  3.35396037e-01],\n",
       "       [-2.08657902e-01, -6.21359772e-01],\n",
       "       [ 2.31029802e-01,  2.64919353e-01],\n",
       "       [-2.05947986e-01, -1.46917275e+00],\n",
       "       [ 1.11838776e-01,  1.56266283e+00],\n",
       "       [-7.40516493e-01, -1.54653578e+00],\n",
       "       [-1.47088639e+00, -9.48330030e-01],\n",
       "       [ 5.69021532e-01,  2.24220073e+00],\n",
       "       [ 2.05342016e-01,  4.76723399e-01],\n",
       "       [ 2.29952421e-01,  3.52169455e-01],\n",
       "       [ 1.42823956e-01,  1.18426603e+00],\n",
       "       [ 1.00159710e+00,  1.14836122e+00],\n",
       "       [ 8.99174028e-01,  4.75339447e-01],\n",
       "       [-7.55864726e-02,  4.02189160e-01],\n",
       "       [ 8.18660414e-01,  6.96273230e-01],\n",
       "       [-7.07662842e-01, -2.23535374e+00],\n",
       "       [-8.60263891e-01, -4.75493611e-01],\n",
       "       [ 3.94189323e-01,  2.45256627e-02],\n",
       "       [ 2.55154091e-01,  7.47338265e-01],\n",
       "       [-6.40345798e-01,  5.03131517e-01],\n",
       "       [-1.76312038e-01, -2.16455420e-01],\n",
       "       [-1.43139242e+00, -4.29983830e-01],\n",
       "       [ 8.03484864e-01, -2.84511676e-01],\n",
       "       [-1.03499607e+00, -4.69442314e-01],\n",
       "       [ 3.38044327e-01, -6.45975015e-01],\n",
       "       [-3.32811187e-02, -9.23495363e-01],\n",
       "       [ 3.28085995e-01,  9.08441414e-01],\n",
       "       [ 5.58261757e-01,  5.82891483e-01],\n",
       "       [-1.24932775e+00,  4.29264775e-02],\n",
       "       [ 5.55393657e-01,  5.31486185e-01],\n",
       "       [-1.01064242e+00, -1.71157868e+00],\n",
       "       [-8.02650640e-01, -7.25094590e-01],\n",
       "       [-5.05927900e-01, -3.74694351e-01],\n",
       "       [ 1.15073917e+00,  1.62958307e+00],\n",
       "       [ 1.03653439e+00,  1.03697482e+00],\n",
       "       [-9.52145528e-01,  5.75958109e-01],\n",
       "       [-4.41778499e-01, -5.05774697e-01],\n",
       "       [ 1.09823119e+00,  5.84068964e-01],\n",
       "       [-5.71504564e-01,  1.29116964e+00],\n",
       "       [ 1.08829748e+00,  1.18700451e+00],\n",
       "       [-1.28124975e+00, -1.55013025e+00],\n",
       "       [ 1.43019364e+00,  1.68378583e-01],\n",
       "       [ 8.41534345e-01,  2.89812534e-01]])"
      ]
     },
     "execution_count": 3,
     "metadata": {},
     "output_type": "execute_result"
    }
   ],
   "source": [
    "sample"
   ]
  },
  {
   "cell_type": "code",
   "execution_count": 4,
   "metadata": {
    "scrolled": true
   },
   "outputs": [
    {
     "data": {
      "text/plain": [
       "Text(0.5, 1.0, 'Sample data')"
      ]
     },
     "execution_count": 4,
     "metadata": {},
     "output_type": "execute_result"
    },
    {
     "data": {
      "image/png": "[encoded data removed]",
      "text/plain": [
       "<Figure size 432x288 with 1 Axes>"
      ]
     },
     "metadata": {
      "needs_background": "light"
     },
     "output_type": "display_data"
    }
   ],
   "source": [
    "plt.scatter(sample[:,0], sample[:,1])\n",
    "plt.xlabel('Dimension 1')\n",
    "plt.ylabel('Dimension 2')\n",
    "plt.title('Sample data')"
   ]
  },
  {
   "cell_type": "markdown",
   "metadata": {},
   "source": [
    "You can see that the data have a roughly elliptical pattern. The correlation between the two dimensions is also visible. \n",
    "\n",
    "With the simulated data set created, it is time to compute the PCA model. The code in the cell below does the following:\n",
    "1. Define a PCA model object using the `PCA` function from the scikit-learn `decomposition` package.\n",
    "2. Fit the PCA model to the sample data.\n",
    "3. Display the ratio of the **variance explained** by each of the components, where, for a matrix X, this ratio is given by:\n",
    "\n",
    "$$VE(X) = \\frac{Var_{X-component}(X)}{Var_{X-total}(X)}$$\n",
    "\n",
    "Notice that by construction:\n",
    "\n",
    "$$VE(X) = \\sum_{i=1}^N VE_i(X) = 1.0$$\n",
    "\n",
    "In other words, the sum of the variance explained for each component must add to the total variance or 1.0 for standardized data. \n",
    "\n",
    "Execute this code and examine the result."
   ]
  },
  {
   "cell_type": "code",
   "execution_count": 5,
   "metadata": {},
   "outputs": [
    {
     "name": "stdout",
     "output_type": "stream",
     "text": [
      "[0.84530942 0.15469058]\n"
     ]
    }
   ],
   "source": [
    "pca_model = skde.PCA()\n",
    "pca_fit = pca_model.fit(sample)\n",
    "print(pca_fit.explained_variance_ratio_)"
   ]
  },
  {
   "cell_type": "markdown",
   "metadata": {},
   "source": [
    "Notice that the explained variance of the first component is many times larger than for the second component. This is exactly the desired result indicating the first principle component explains the majority of the variance of the sample data. \n",
    "\n",
    "The code in the cell below computes and prints the scaled components. Mathematically, the scaled components are the eigenvectors scaled by the eigenvalues. Execute this code:  "
   ]
  },
  {
   "cell_type": "code",
   "execution_count": 6,
   "metadata": {},
   "outputs": [
    {
     "name": "stdout",
     "output_type": "stream",
     "text": [
      "[[ 0.60552007  0.79583003]\n",
      " [-0.79583003  0.60552007]]\n",
      "[[ 0.51185182  0.67272262]\n",
      " [-0.12310741  0.09366825]]\n"
     ]
    }
   ],
   "source": [
    "comps = pca_fit.components_\n",
    "print(comps)\n",
    "for i in range(2):\n",
    "    comps[:,i] = comps[:,i] * pca_fit.explained_variance_ratio_\n",
    "print(comps)"
   ]
  },
  {
   "cell_type": "markdown",
   "metadata": {},
   "source": [
    "Notice that the two vectors have their origins at $\\[ 0,0 \\}$, and are quite different magnitude, and are pointing in different directions.  \n",
    "\n",
    "To better understand how the projections of the components relate to the data, execute the code to plot the data along with the principle components. Execute this code: "
   ]
  },
  {
   "cell_type": "code",
   "execution_count": 7,
   "metadata": {},
   "outputs": [
    {
     "data": {
      "text/plain": [
       "Text(0.5, 1.0, 'Sample data')"
      ]
     },
     "execution_count": 7,
     "metadata": {},
     "output_type": "execute_result"
    },
    {
     "data": {
      "image/png": "[encoded data removed]",
      "text/plain": [
       "<Figure size 432x288 with 1 Axes>"
      ]
     },
     "metadata": {
      "needs_background": "light"
     },
     "output_type": "display_data"
    }
   ],
   "source": [
    "plt.scatter(sample[:,0], sample[:,1])\n",
    "# plt.plot([0.0, comps[0,0]], [0.0,comps[0,1]], color = 'red', linewidth = 5)\n",
    "# plt.plot([0.0, comps[1,0]], [0.0,comps[1,1]], color = 'red', linewidth = 5)\n",
    "plt.plot([0.0, comps[0,0]], [0.0,comps[0,1]], color = 'red', linewidth = 5)\n",
    "plt.plot([0.0, comps[1,0]], [0.0,comps[1,1]], color = 'red', linewidth = 5)\n",
    "\n",
    "plt.xlabel('Dimension 1')\n",
    "plt.ylabel('Dimension 2')\n",
    "plt.title('Sample data')"
   ]
  },
  {
   "cell_type": "markdown",
   "metadata": {},
   "source": [
    "Notice the the fist principle component (the long red line) is along the direction of greatest variance of the data. This is as expected. The short red line is along the direction of the second principle component. The lengths of these lines is the variance in the directions of the projection. \n",
    "\n",
    "The ultimate goal of PCA is to transform data to a coordinate system with the highest variance directions along the axes. The code in the cell below uses the `transform` method on the PCA object to perform this operation and then plots the result. Execute this code: "
   ]
  },
  {
   "cell_type": "code",
   "execution_count": 8,
   "metadata": {},
   "outputs": [
    {
     "name": "stdout",
     "output_type": "stream",
     "text": [
      "[[-2.79150579e-01 -4.52880934e-02]\n",
      " [ 1.64413509e+00  1.81388907e-01]\n",
      " [ 1.56065853e+00 -1.19208714e-01]\n",
      " [ 1.25551643e+00  1.23716055e-01]\n",
      " [-9.69438248e-01 -5.35001881e-02]\n",
      " [ 1.10035673e+00 -8.82592670e-03]\n",
      " [-2.71686161e-01 -6.83463942e-03]\n",
      " [ 1.25550747e+00 -4.78137225e-02]\n",
      " [-7.79791470e-01  3.57680144e-02]\n",
      " [ 1.59501070e+00  2.45276070e-02]\n",
      " [ 2.40012836e+00  5.64034797e-02]\n",
      " [-2.68910937e-01 -1.07343264e-01]\n",
      " [-6.97550308e-01  1.51043046e-02]\n",
      " [ 3.58456845e-01 -3.48911317e-02]\n",
      " [-8.73602228e-01 -9.11172602e-02]\n",
      " [-4.93226762e-01 -3.88010083e-02]\n",
      " [-3.03770695e-01 -2.12074198e-01]\n",
      " [-4.80025933e-01  2.45929962e-02]\n",
      " [-3.97923616e-03 -1.57347448e-02]\n",
      " [-9.00946787e-01 -2.11464263e-01]\n",
      " [-5.83968879e-01  1.18209832e-01]\n",
      " [-7.55950967e-01  1.33214431e-01]\n",
      " [-2.56605678e-01 -2.45364377e-02]\n",
      " [-2.15484692e+00 -1.84681923e-02]\n",
      " [ 3.10255047e-01 -1.26372321e-01]\n",
      " [-5.65871896e-01  9.09723631e-02]\n",
      " [-1.62001336e+00  3.21122857e-02]\n",
      " [ 9.30743421e-01  8.54949369e-03]\n",
      " [ 1.39906050e+00  3.33468677e-02]\n",
      " [-6.67299981e-01 -3.84840818e-02]\n",
      " [-3.02997422e-01 -5.16589498e-02]\n",
      " [ 5.27813078e-03  5.18361154e-03]\n",
      " [-3.54570332e-01 -4.10503363e-02]\n",
      " [ 9.06693242e-02  3.35867891e-02]\n",
      " [ 1.46477046e+00  4.13803037e-02]\n",
      " [-9.71337424e-01  5.47371968e-02]\n",
      " [ 4.70142714e-01 -1.27218230e-02]\n",
      " [ 2.31502700e+00  2.09496119e-02]\n",
      " [ 2.07642931e-01  3.36127408e-02]\n",
      " [-4.08166645e-01 -9.17852729e-02]\n",
      " [-1.24811117e-02 -1.68066392e-02]\n",
      " [-2.25836850e+00 -1.45567499e-01]\n",
      " [-1.14919846e+00  8.41023215e-02]\n",
      " [-1.11461245e+00  8.73084202e-02]\n",
      " [-1.18455175e+00 -3.03693371e-02]\n",
      " [-8.99580269e-01  2.19459807e-02]\n",
      " [-1.80814589e+00  2.60086386e-01]\n",
      " [-1.47025276e+00 -1.40383928e-02]\n",
      " [-7.33083188e-02  4.32095605e-03]\n",
      " [-1.68099027e+00  5.14757263e-02]\n",
      " [ 1.84961231e+00  5.86705041e-02]\n",
      " [ 2.61341664e+00 -1.64956238e-01]\n",
      " [ 1.08342117e+00  2.93800215e-02]\n",
      " [-2.16160131e+00  8.93264421e-02]\n",
      " [ 9.39907317e-01  2.91020518e-03]\n",
      " [-7.03057586e-01 -2.17063502e-02]\n",
      " [-8.41771882e-01  2.60573210e-02]\n",
      " [ 5.80796295e-01 -4.76260760e-02]\n",
      " [-4.65000630e-01 -4.05173438e-02]\n",
      " [ 3.56274338e-01 -1.16299419e-02]\n",
      " [-1.03395652e+00 -1.20264115e-01]\n",
      " [ 1.16828759e+00  1.24600721e-01]\n",
      " [-1.35962025e+00 -6.17012296e-02]\n",
      " [-1.33103487e+00  8.42456055e-02]\n",
      " [ 1.85943793e+00  1.31969264e-01]\n",
      " [ 4.85611371e-01  1.13717300e-02]\n",
      " [ 4.14417995e-01 -3.32474355e-03]\n",
      " [ 9.29591321e-01  8.53424489e-02]\n",
      " [ 1.34500194e+00 -2.37420317e-02]\n",
      " [ 8.39819532e-01 -7.41737656e-02]\n",
      " [ 2.91676744e-01  3.89746172e-02]\n",
      " [ 9.47235646e-01 -4.35674615e-02]\n",
      " [-1.80618747e+00 -1.30266133e-01]\n",
      " [-7.00398875e-01  5.33632114e-02]\n",
      " [ 2.78069562e-01 -5.42333452e-02]\n",
      " [ 6.93156514e-01  3.05875161e-02]\n",
      " [ 7.05098626e-02  1.17955770e-01]\n",
      " [-1.76056024e-01 -6.57267624e-03]\n",
      " [-9.62116592e-01  1.27936188e-01]\n",
      " [ 2.79671820e-01 -1.33567648e-01]\n",
      " [-7.85765011e-01  7.54408516e-02]\n",
      " [-2.01729331e-01 -1.10126107e-01]\n",
      " [-5.78487151e-01 -9.04080388e-02]\n",
      " [ 8.38864574e-01  3.66993087e-02]\n",
      " [ 7.37675654e-01 -2.21307270e-02]\n",
      " [-5.50788996e-01  1.49819360e-01]\n",
      " [ 7.01626105e-01 -2.65926870e-02]\n",
      " [-1.60891279e+00 -4.39060060e-02]\n",
      " [-8.38821652e-01  2.28909056e-02]\n",
      " [-4.51221411e-01  1.91835153e-02]\n",
      " [ 1.74506940e+00  2.97268451e-03]\n",
      " [ 1.28795250e+00 -3.84764392e-02]\n",
      " [-4.00933010e-02  1.63162168e-01]\n",
      " [-5.06567137e-01 -9.91818528e-04]\n",
      " [ 1.01485211e+00 -8.84946740e-02]\n",
      " [ 6.35877444e-01  1.83295058e-01]\n",
      " [ 1.41537590e+00 -3.07958418e-02]\n",
      " [-1.63881363e+00  4.53035407e-03]\n",
      " [ 9.05123368e-01 -1.68298703e-01]\n",
      " [ 6.85508405e-01 -8.44558752e-02]]\n"
     ]
    },
    {
     "data": {
      "text/plain": [
       "Text(0.5, 1.0, 'Sample data')"
      ]
     },
     "execution_count": 8,
     "metadata": {},
     "output_type": "execute_result"
    },
    {
     "data": {
      "image/png": "[encoded data removed]",
      "text/plain": [
       "<Figure size 432x288 with 1 Axes>"
      ]
     },
     "metadata": {
      "needs_background": "light"
     },
     "output_type": "display_data"
    }
   ],
   "source": [
    "trans = pca_fit.transform(sample)\n",
    "print(trans)\n",
    "plt.scatter(trans[:,0], trans[:,1])\n",
    "plt.xlabel('Dimension 1')\n",
    "plt.ylabel('Dimension 2')\n",
    "plt.title('Sample data')"
   ]
  },
  {
   "cell_type": "markdown",
   "metadata": {},
   "source": [
    "Notice that the scale along these two coordinates are quite different. The first principle component is along the horizontal axis. The range of values on this direction is in the range of about $\\{ -2.5,2.5 \\}$. The range of values on the vertical axis or second principle component are only about $\\{ -0.2, 0.3 \\}$. It is clear that most of the variance is along the direction of the fist principle component. "
   ]
  },
  {
   "cell_type": "markdown",
   "metadata": {},
   "source": [
    "## Load Features and Labels\n",
    "\n",
    "Keeping the foregoing simple example in mind, it is time to apply PCA to some real data. \n",
    "\n",
    "The code in the cell below loads the dataset which has had the the following preprocessing:\n",
    "1. Cleaning missing values.\n",
    "2. Aggregating categories of certain categorical variables. \n",
    "3. Encoding categorical variables as binary dummy variables.\n",
    "4. Standardizing numeric variables. \n",
    "\n",
    "Execute the code in the cell below to load the features and labels as numpy arrays for the example: "
   ]
  },
  {
   "cell_type": "code",
   "execution_count": 9,
   "metadata": {},
   "outputs": [
    {
     "name": "stdout",
     "output_type": "stream",
     "text": [
      "(1000, 35)\n",
      "(1000, 1)\n"
     ]
    }
   ],
   "source": [
    "Features = np.array(pd.read_csv('Credit_Features.csv'))\n",
    "Labels = np.array(pd.read_csv('Credit_Labels.csv'))\n",
    "print(Features.shape)\n",
    "print(Labels.shape)"
   ]
  },
  {
   "cell_type": "markdown",
   "metadata": {},
   "source": [
    "There are 35 features in this data set. The numeric features have been Zscore scaled so they are zero centered (mean removed) and unit variance (divide by standard deviation). \n",
    "\n",
    "****\n",
    "**Note:** Before performing PCA all features must be zero mean and unit variance. Failure to do so will result in biased computation of the components and scales. In this case, the data set has already been scaled, but ordinarily scaling is a key step. \n",
    "****\n",
    "\n",
    "Now, run the code in the cell below to split the data set into test and training subsets:"
   ]
  },
  {
   "cell_type": "code",
   "execution_count": 10,
   "metadata": {},
   "outputs": [],
   "source": [
    "## Randomly sample cases to create independent training and test data\n",
    "nr.seed(1115)\n",
    "indx = range(Features.shape[0])\n",
    "indx = ms.train_test_split(indx, test_size = 300)\n",
    "X_train = Features[indx[0],:]\n",
    "y_train = np.ravel(Labels[indx[0]])\n",
    "X_test = Features[indx[1],:]\n",
    "y_test = np.ravel(Labels[indx[1]])"
   ]
  },
  {
   "cell_type": "markdown",
   "metadata": {},
   "source": [
    "## Compute principle components\n",
    "\n",
    "The code in the cell below computes the principle components for the training feature subset. Execute this code:"
   ]
  },
  {
   "cell_type": "code",
   "execution_count": 11,
   "metadata": {},
   "outputs": [
    {
     "data": {
      "text/plain": [
       "PCA(copy=True, iterated_power='auto', n_components=None, random_state=None,\n",
       "    svd_solver='auto', tol=0.0, whiten=False)"
      ]
     },
     "execution_count": 11,
     "metadata": {},
     "output_type": "execute_result"
    }
   ],
   "source": [
    "pca_mod = skde.PCA()\n",
    "pca_comps = pca_mod.fit(X_train)\n",
    "pca_comps"
   ]
  },
  {
   "cell_type": "markdown",
   "metadata": {},
   "source": [
    "Execute the code in the cell below to print the variance explained for each component and the sum of the variance explained:"
   ]
  },
  {
   "cell_type": "code",
   "execution_count": 12,
   "metadata": {},
   "outputs": [
    {
     "name": "stdout",
     "output_type": "stream",
     "text": [
      "[2.14454905e-01 1.45271147e-01 1.28532553e-01 5.55554330e-02\n",
      " 4.91723911e-02 4.27625372e-02 3.78015441e-02 3.52905162e-02\n",
      " 3.40935676e-02 2.98736044e-02 2.82623202e-02 2.63144677e-02\n",
      " 2.40299754e-02 2.20162922e-02 1.72330465e-02 1.70031525e-02\n",
      " 1.60567422e-02 1.37503175e-02 1.27040327e-02 1.02826434e-02\n",
      " 9.12460219e-03 7.13807162e-03 6.43465948e-03 6.29150307e-03\n",
      " 3.93792720e-03 2.95950712e-03 1.54556112e-03 1.20102653e-03\n",
      " 9.05952167e-04 4.22937727e-32 2.48558805e-33 1.22248933e-33\n",
      " 1.22248933e-33 1.22248933e-33 1.79044130e-34]\n",
      "1.0\n"
     ]
    }
   ],
   "source": [
    "print(pca_comps.explained_variance_ratio_)\n",
    "print(np.sum(pca_comps.explained_variance_ratio_))"
   ]
  },
  {
   "cell_type": "markdown",
   "metadata": {},
   "source": [
    "These numbers are a bit abstract. However, you can see that the variance ratios are in descending order and that the sum is 1.0. \n",
    "\n",
    "Execute the code in the cell below to create a plot of the explained variance vs. the component:  "
   ]
  },
  {
   "cell_type": "code",
   "execution_count": 13,
   "metadata": {},
   "outputs": [
    {
     "data": {
      "image/png": "[encoded data removed]",
      "text/plain": [
       "<Figure size 432x288 with 1 Axes>"
      ]
     },
     "metadata": {
      "needs_background": "light"
     },
     "output_type": "display_data"
    }
   ],
   "source": [
    "def plot_explained(mod):\n",
    "    comps = mod.explained_variance_ratio_\n",
    "    x = range(len(comps))\n",
    "    x = [y + 1 for y in x]\n",
    "    plt.plot(x,comps)\n",
    "\n",
    "plot_explained(pca_comps)"
   ]
  },
  {
   "cell_type": "markdown",
   "metadata": {},
   "source": [
    "This curve is often referred to as a **scree plot**. Notice that the explained variance decreases rapidly until the 5th component and then slowly, thereafter. The first few components explain a large fraction of the variance and therefore contain much of the explanatory information in the data. The components with small explained variance are unlikely to contain much explanatory information. Often the inflection point or 'knee' in the scree curve is used to choose the number of components selected. "
   ]
  },
  {
   "cell_type": "markdown",
   "metadata": {},
   "source": [
    "Now it is time to create a PCA model with a reduced number of components. The code in the cell below trains and fits a PCA model with 5 components, and then transforms the features using that model. Execute this code. "
   ]
  },
  {
   "cell_type": "code",
   "execution_count": 14,
   "metadata": {},
   "outputs": [
    {
     "data": {
      "text/plain": [
       "(700, 5)"
      ]
     },
     "execution_count": 14,
     "metadata": {},
     "output_type": "execute_result"
    }
   ],
   "source": [
    "pca_mod_5 = skde.PCA(n_components = 5)\n",
    "pca_mod_5.fit(X_train)\n",
    "Comps = pca_mod_5.transform(X_train)\n",
    "Comps.shape"
   ]
  },
  {
   "cell_type": "markdown",
   "metadata": {},
   "source": [
    "## Compute and evaluate a logistic regression model\n",
    "\n",
    "Next, you will compute and evaluate a logistic regression model using the features transformed by the first 5 principle components. Execute the code in the cell below to define and fit a logistic regression model, and print the model coefficients. "
   ]
  },
  {
   "cell_type": "code",
   "execution_count": 15,
   "metadata": {},
   "outputs": [
    {
     "name": "stdout",
     "output_type": "stream",
     "text": [
      "[-0.7970545]\n",
      "[[ 0.351739   -0.03068638 -0.41888098  0.87147247 -0.65315369]]\n"
     ]
    },
    {
     "name": "stderr",
     "output_type": "stream",
     "text": [
      "/home/ins/anaconda3/lib/python3.7/site-packages/sklearn/linear_model/logistic.py:432: FutureWarning: Default solver will be changed to 'lbfgs' in 0.22. Specify a solver to silence this warning.\n",
      "  FutureWarning)\n"
     ]
    }
   ],
   "source": [
    "## Define and fit the logistic regression model\n",
    "log_mod_5 = linear_model.LogisticRegression(C = 10.0, class_weight = {0:0.45, 1:0.55}) \n",
    "log_mod_5.fit(Comps, y_train)\n",
    "print(log_mod_5.intercept_)\n",
    "print(log_mod_5.coef_)"
   ]
  },
  {
   "cell_type": "markdown",
   "metadata": {},
   "source": [
    "Notice that there are now 5 regression coefficients, one for each component. This number is in contrast to the 35 features in the raw data. \n",
    "\n",
    "Next, evaluate this model using the code below. Notice that the test features are transformed using the same PCA transformation used for the training data. Execute this code and examine the results.\n",
    "\n",
    "Then, answer **Question 1** on the course page."
   ]
  },
  {
   "cell_type": "code",
   "execution_count": 16,
   "metadata": {
    "scrolled": false
   },
   "outputs": [
    {
     "name": "stdout",
     "output_type": "stream",
     "text": [
      "                 Confusion matrix\n",
      "                 Score positive    Score negative\n",
      "Actual positive       122                90\n",
      "Actual negative        17                71\n",
      "\n",
      "Accuracy        0.64\n",
      "AUC             0.76\n",
      "Macro precision 0.66\n",
      "Macro recall    0.69\n",
      " \n",
      "           Positive      Negative\n",
      "Num case      212            88\n",
      "Precision    0.88          0.44\n",
      "Recall       0.58          0.81\n",
      "F1           0.70          0.57\n"
     ]
    },
    {
     "data": {
      "image/png": "[encoded data removed]",
      "text/plain": [
       "<Figure size 432x288 with 1 Axes>"
      ]
     },
     "metadata": {
      "needs_background": "light"
     },
     "output_type": "display_data"
    }
   ],
   "source": [
    "def score_model(probs, threshold):\n",
    "    return np.array([1 if x > threshold else 0 for x in probs[:,1]])\n",
    "\n",
    "def print_metrics(labels, probs, threshold):\n",
    "    scores = score_model(probs, threshold)\n",
    "    metrics = sklm.precision_recall_fscore_support(labels, scores)\n",
    "    conf = sklm.confusion_matrix(labels, scores)\n",
    "    print('                 Confusion matrix')\n",
    "    print('                 Score positive    Score negative')\n",
    "    print('Actual positive    %6d' % conf[0,0] + '             %5d' % conf[0,1])\n",
    "    print('Actual negative    %6d' % conf[1,0] + '             %5d' % conf[1,1])\n",
    "    print('')\n",
    "    print('Accuracy        %0.2f' % sklm.accuracy_score(labels, scores))\n",
    "    print('AUC             %0.2f' % sklm.roc_auc_score(labels, probs[:,1]))\n",
    "    print('Macro precision %0.2f' % float((float(metrics[0][0]) + float(metrics[0][1]))/2.0))\n",
    "    print('Macro recall    %0.2f' % float((float(metrics[1][0]) + float(metrics[1][1]))/2.0))\n",
    "    print(' ')\n",
    "    print('           Positive      Negative')\n",
    "    print('Num case   %6d' % metrics[3][0] + '        %6d' % metrics[3][1])\n",
    "    print('Precision  %6.2f' % metrics[0][0] + '        %6.2f' % metrics[0][1])\n",
    "    print('Recall     %6.2f' % metrics[1][0] + '        %6.2f' % metrics[1][1])\n",
    "    print('F1         %6.2f' % metrics[2][0] + '        %6.2f' % metrics[2][1])\n",
    "\n",
    "def plot_auc(labels, probs):\n",
    "    ## Compute the false positive rate, true positive rate\n",
    "    ## and threshold along with the AUC\n",
    "    fpr, tpr, threshold = sklm.roc_curve(labels, probs[:,1])\n",
    "    auc = sklm.auc(fpr, tpr)\n",
    "    \n",
    "    ## Plot the result\n",
    "    plt.title('Receiver Operating Characteristic')\n",
    "    plt.plot(fpr, tpr, color = 'orange', label = 'AUC = %0.2f' % auc)\n",
    "    plt.legend(loc = 'lower right')\n",
    "    plt.plot([0, 1], [0, 1],'r--')\n",
    "    plt.xlim([0, 1])\n",
    "    plt.ylim([0, 1])\n",
    "    plt.ylabel('True Positive Rate')\n",
    "    plt.xlabel('False Positive Rate')\n",
    "    plt.show()    \n",
    "\n",
    "probabilities = log_mod_5.predict_proba(pca_mod_5.transform(X_test))\n",
    "print_metrics(y_test, probabilities, 0.3)    \n",
    "plot_auc(y_test, probabilities)     "
   ]
  },
  {
   "cell_type": "markdown",
   "metadata": {},
   "source": [
    "For the most part, these results look good. The question remains, were the correct number of principle components used? "
   ]
  },
  {
   "cell_type": "markdown",
   "metadata": {},
   "source": [
    "## Add more components to the model\n",
    "\n",
    "Now you will compute and evaluate a logistic regression model using the first 10 principle components. You will compare this model to the one created with 5 principle components. Execute the code below to transform the training features using the first 10 principle components. "
   ]
  },
  {
   "cell_type": "code",
   "execution_count": 17,
   "metadata": {},
   "outputs": [
    {
     "data": {
      "text/plain": [
       "(700, 10)"
      ]
     },
     "execution_count": 17,
     "metadata": {},
     "output_type": "execute_result"
    }
   ],
   "source": [
    "pca_mod_10 = skde.PCA(n_components = 10)\n",
    "pca_mod_10.fit(X_train)\n",
    "Comps_10 = pca_mod_10.transform(X_train)\n",
    "Comps_10.shape"
   ]
  },
  {
   "cell_type": "markdown",
   "metadata": {},
   "source": [
    "Execute the code in the cell below to define and fit a logistic regression model using the 10 components of the transformed features. "
   ]
  },
  {
   "cell_type": "code",
   "execution_count": 18,
   "metadata": {},
   "outputs": [
    {
     "name": "stderr",
     "output_type": "stream",
     "text": [
      "/home/ins/anaconda3/lib/python3.7/site-packages/sklearn/linear_model/logistic.py:432: FutureWarning: Default solver will be changed to 'lbfgs' in 0.22. Specify a solver to silence this warning.\n",
      "  FutureWarning)\n"
     ]
    },
    {
     "data": {
      "text/plain": [
       "LogisticRegression(C=10.0, class_weight={0: 0.45, 1: 0.55}, dual=False,\n",
       "                   fit_intercept=True, intercept_scaling=1, l1_ratio=None,\n",
       "                   max_iter=100, multi_class='warn', n_jobs=None, penalty='l2',\n",
       "                   random_state=None, solver='warn', tol=0.0001, verbose=0,\n",
       "                   warm_start=False)"
      ]
     },
     "execution_count": 18,
     "metadata": {},
     "output_type": "execute_result"
    }
   ],
   "source": [
    "## define and fit the linear regression model\n",
    "log_mod_10 = linear_model.LogisticRegression(C = 10.0, class_weight = {0:0.45, 1:0.55}) \n",
    "log_mod_10.fit(Comps_10, y_train)"
   ]
  },
  {
   "cell_type": "markdown",
   "metadata": {},
   "source": [
    "The code in the cell below scores the logistic regression model and displays performance metrics, the ROC curve, and the AUC. Execute this code and examine the result. \n",
    "\n",
    "Then, answer **Question 2** on the course page."
   ]
  },
  {
   "cell_type": "code",
   "execution_count": 19,
   "metadata": {},
   "outputs": [
    {
     "name": "stdout",
     "output_type": "stream",
     "text": [
      "                 Confusion matrix\n",
      "                 Score positive    Score negative\n",
      "Actual positive       131                81\n",
      "Actual negative        14                74\n",
      "\n",
      "Accuracy        0.68\n",
      "AUC             0.80\n",
      "Macro precision 0.69\n",
      "Macro recall    0.73\n",
      " \n",
      "           Positive      Negative\n",
      "Num case      212            88\n",
      "Precision    0.90          0.48\n",
      "Recall       0.62          0.84\n",
      "F1           0.73          0.61\n"
     ]
    },
    {
     "data": {
      "image/png": "[encoded data removed]",
      "text/plain": [
       "<Figure size 432x288 with 1 Axes>"
      ]
     },
     "metadata": {
      "needs_background": "light"
     },
     "output_type": "display_data"
    }
   ],
   "source": [
    "probabilities = log_mod_10.predict_proba(pca_mod_10.transform(X_test))\n",
    "print_metrics(y_test, probabilities, 0.3)  \n",
    "plot_auc(y_test, probabilities)     "
   ]
  },
  {
   "cell_type": "markdown",
   "metadata": {},
   "source": [
    "All of the metrics have improved compared to the 5 component model. Apparently there is useful information in the first 10 components. \n",
    "\n",
    "But, is this difference really significant. To find out, you will now perform cross validation on the result. Ideally, the fitting of the PCA model should be part of the cross validation process. However, at the risk of a small bias, this step is omitted for the sake of simplicity. Execute the code in the cell below to perform the cross validation and display the result. "
   ]
  },
  {
   "cell_type": "code",
   "execution_count": 20,
   "metadata": {},
   "outputs": [],
   "source": [
    "def print_format(f,x,y,z):\n",
    "    print('Fold %2d    %4.3f        %4.3f      %4.3f' % (f, x, y, z))\n",
    "\n",
    "def print_cv(scores):\n",
    "    fold = [x + 1 for x in range(len(scores['test_precision_macro']))]\n",
    "    print('         Precision     Recall       AUC')\n",
    "    [print_format(f,x,y,z) for f,x,y,z in zip(fold, scores['test_precision_macro'], \n",
    "                                          scores['test_recall_macro'],\n",
    "                                          scores['test_roc_auc'])]\n",
    "    print('-' * 40)\n",
    "    print('Mean       %4.3f        %4.3f      %4.3f' % \n",
    "          (np.mean(scores['test_precision_macro']), np.mean(scores['test_recall_macro']), np.mean(scores['test_roc_auc'])))  \n",
    "    print('Std        %4.3f        %4.3f      %4.3f' % \n",
    "          (np.std(scores['test_precision_macro']), np.std(scores['test_recall_macro']), np.std(scores['test_roc_auc'])))\n",
    "  \n",
    "Labels = Labels.reshape(Labels.shape[0],)\n",
    "scoring = ['precision_macro', 'recall_macro', 'roc_auc']"
   ]
  },
  {
   "cell_type": "code",
   "execution_count": 21,
   "metadata": {},
   "outputs": [
    {
     "name": "stdout",
     "output_type": "stream",
     "text": [
      "         Precision     Recall       AUC\n",
      "Fold  1    0.690        0.633      0.757\n",
      "Fold  2    0.599        0.581      0.725\n",
      "Fold  3    0.719        0.667      0.790\n",
      "Fold  4    0.633        0.636      0.649\n",
      "Fold  5    0.716        0.631      0.761\n",
      "Fold  6    0.672        0.626      0.736\n",
      "Fold  7    0.604        0.590      0.647\n",
      "Fold  8    0.702        0.660      0.768\n",
      "Fold  9    0.737        0.674      0.760\n",
      "Fold 10    0.609        0.600      0.708\n",
      "----------------------------------------\n",
      "Mean       0.668        0.630      0.730\n",
      "Std        0.050        0.030      0.047\n"
     ]
    },
    {
     "name": "stderr",
     "output_type": "stream",
     "text": [
      "/home/ins/anaconda3/lib/python3.7/site-packages/sklearn/linear_model/logistic.py:432: FutureWarning: Default solver will be changed to 'lbfgs' in 0.22. Specify a solver to silence this warning.\n",
      "  FutureWarning)\n",
      "/home/ins/anaconda3/lib/python3.7/site-packages/sklearn/linear_model/logistic.py:432: FutureWarning: Default solver will be changed to 'lbfgs' in 0.22. Specify a solver to silence this warning.\n",
      "  FutureWarning)\n",
      "/home/ins/anaconda3/lib/python3.7/site-packages/sklearn/linear_model/logistic.py:432: FutureWarning: Default solver will be changed to 'lbfgs' in 0.22. Specify a solver to silence this warning.\n",
      "  FutureWarning)\n",
      "/home/ins/anaconda3/lib/python3.7/site-packages/sklearn/linear_model/logistic.py:432: FutureWarning: Default solver will be changed to 'lbfgs' in 0.22. Specify a solver to silence this warning.\n",
      "  FutureWarning)\n",
      "/home/ins/anaconda3/lib/python3.7/site-packages/sklearn/linear_model/logistic.py:432: FutureWarning: Default solver will be changed to 'lbfgs' in 0.22. Specify a solver to silence this warning.\n",
      "  FutureWarning)\n",
      "/home/ins/anaconda3/lib/python3.7/site-packages/sklearn/linear_model/logistic.py:432: FutureWarning: Default solver will be changed to 'lbfgs' in 0.22. Specify a solver to silence this warning.\n",
      "  FutureWarning)\n",
      "/home/ins/anaconda3/lib/python3.7/site-packages/sklearn/linear_model/logistic.py:432: FutureWarning: Default solver will be changed to 'lbfgs' in 0.22. Specify a solver to silence this warning.\n",
      "  FutureWarning)\n",
      "/home/ins/anaconda3/lib/python3.7/site-packages/sklearn/linear_model/logistic.py:432: FutureWarning: Default solver will be changed to 'lbfgs' in 0.22. Specify a solver to silence this warning.\n",
      "  FutureWarning)\n",
      "/home/ins/anaconda3/lib/python3.7/site-packages/sklearn/linear_model/logistic.py:432: FutureWarning: Default solver will be changed to 'lbfgs' in 0.22. Specify a solver to silence this warning.\n",
      "  FutureWarning)\n",
      "/home/ins/anaconda3/lib/python3.7/site-packages/sklearn/linear_model/logistic.py:432: FutureWarning: Default solver will be changed to 'lbfgs' in 0.22. Specify a solver to silence this warning.\n",
      "  FutureWarning)\n"
     ]
    }
   ],
   "source": [
    "pca_mod = skde.PCA(n_components = 5)\n",
    "pca_mod.fit(Features)\n",
    "Comps = pca_mod.transform(Features)\n",
    "scores = ms.cross_validate(log_mod_5, Comps, Labels, scoring=scoring,\n",
    "                        cv=10, return_train_score=False)\n",
    "print_cv(scores)  "
   ]
  },
  {
   "cell_type": "code",
   "execution_count": 22,
   "metadata": {},
   "outputs": [
    {
     "name": "stdout",
     "output_type": "stream",
     "text": [
      "         Precision     Recall       AUC\n",
      "Fold  1    0.713        0.705      0.768\n",
      "Fold  2    0.738        0.729      0.800\n",
      "Fold  3    0.642        0.612      0.790\n",
      "Fold  4    0.624        0.617      0.703\n",
      "Fold  5    0.716        0.676      0.807\n",
      "Fold  6    0.686        0.662      0.790\n",
      "Fold  7    0.610        0.612      0.674\n",
      "Fold  8    0.726        0.721      0.815\n",
      "Fold  9    0.713        0.705      0.765\n",
      "Fold 10    0.635        0.648      0.722\n",
      "----------------------------------------\n",
      "Mean       0.680        0.669      0.763\n",
      "Std        0.045        0.043      0.045\n"
     ]
    },
    {
     "name": "stderr",
     "output_type": "stream",
     "text": [
      "/home/ins/anaconda3/lib/python3.7/site-packages/sklearn/linear_model/logistic.py:432: FutureWarning: Default solver will be changed to 'lbfgs' in 0.22. Specify a solver to silence this warning.\n",
      "  FutureWarning)\n",
      "/home/ins/anaconda3/lib/python3.7/site-packages/sklearn/linear_model/logistic.py:432: FutureWarning: Default solver will be changed to 'lbfgs' in 0.22. Specify a solver to silence this warning.\n",
      "  FutureWarning)\n",
      "/home/ins/anaconda3/lib/python3.7/site-packages/sklearn/linear_model/logistic.py:432: FutureWarning: Default solver will be changed to 'lbfgs' in 0.22. Specify a solver to silence this warning.\n",
      "  FutureWarning)\n",
      "/home/ins/anaconda3/lib/python3.7/site-packages/sklearn/linear_model/logistic.py:432: FutureWarning: Default solver will be changed to 'lbfgs' in 0.22. Specify a solver to silence this warning.\n",
      "  FutureWarning)\n",
      "/home/ins/anaconda3/lib/python3.7/site-packages/sklearn/linear_model/logistic.py:432: FutureWarning: Default solver will be changed to 'lbfgs' in 0.22. Specify a solver to silence this warning.\n",
      "  FutureWarning)\n",
      "/home/ins/anaconda3/lib/python3.7/site-packages/sklearn/linear_model/logistic.py:432: FutureWarning: Default solver will be changed to 'lbfgs' in 0.22. Specify a solver to silence this warning.\n",
      "  FutureWarning)\n",
      "/home/ins/anaconda3/lib/python3.7/site-packages/sklearn/linear_model/logistic.py:432: FutureWarning: Default solver will be changed to 'lbfgs' in 0.22. Specify a solver to silence this warning.\n",
      "  FutureWarning)\n",
      "/home/ins/anaconda3/lib/python3.7/site-packages/sklearn/linear_model/logistic.py:432: FutureWarning: Default solver will be changed to 'lbfgs' in 0.22. Specify a solver to silence this warning.\n",
      "  FutureWarning)\n",
      "/home/ins/anaconda3/lib/python3.7/site-packages/sklearn/linear_model/logistic.py:432: FutureWarning: Default solver will be changed to 'lbfgs' in 0.22. Specify a solver to silence this warning.\n",
      "  FutureWarning)\n",
      "/home/ins/anaconda3/lib/python3.7/site-packages/sklearn/linear_model/logistic.py:432: FutureWarning: Default solver will be changed to 'lbfgs' in 0.22. Specify a solver to silence this warning.\n",
      "  FutureWarning)\n"
     ]
    }
   ],
   "source": [
    "pca_mod = skde.PCA(n_components = 10)\n",
    "pca_mod.fit(Features)\n",
    "Comps = pca_mod.transform(Features)\n",
    "\n",
    "scores = ms.cross_validate(log_mod_10, Comps, Labels, scoring=scoring,\n",
    "                        cv=10, return_train_score=False)\n",
    "print_cv(scores)  "
   ]
  },
  {
   "cell_type": "markdown",
   "metadata": {},
   "source": [
    "Compare the AUC and its standard deviation obtained above to the AUC of the 5 component model. The difference does appear to be significant. This difference supports the hypothesis that the first 10 components all contain useful information. "
   ]
  },
  {
   "cell_type": "markdown",
   "metadata": {},
   "source": [
    "## Summary\n",
    "\n",
    "In this lab you have applied principle component analysis to dimensionality reduction for supervised machine learning. The first components computed contain most of the available information. When faced with large number of features, PCA is an effective way to make supervised machine learning models tractable. \n",
    "\n",
    "Specifically in this lab you have:\n",
    "1. Computed PCA models with different numbers of components.\n",
    "2. Compared logistic regression models with different numbers of components. In this case, using 10 components produced a significantly better model. Using 10 components is a useful reduction in dimensionality compared to the original 35 features. "
   ]
  },
  {
   "cell_type": "code",
   "execution_count": null,
   "metadata": {},
   "outputs": [],
   "source": []
  }
 ],
 "metadata": {
  "kernelspec": {
   "display_name": "Python 3",
   "language": "python",
   "name": "python3"
  },
  "language_info": {
   "codemirror_mode": {
    "name": "ipython",
    "version": 3
   },
   "file_extension": ".py",
   "mimetype": "text/x-python",
   "name": "python",
   "nbconvert_exporter": "python",
   "pygments_lexer": "ipython3",
   "version": "3.7.4"
  }
 },
 "nbformat": 4,
 "nbformat_minor": 2
}
